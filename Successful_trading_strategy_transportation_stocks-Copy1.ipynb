{
 "cells": [
  {
   "cell_type": "code",
   "execution_count": 1,
   "metadata": {},
   "outputs": [],
   "source": [
    "import pandas as pd\n",
    "video_subtitle_data = pd.read_json(\"video_subtitle_data_copy.json\")"
   ]
  },
  {
   "cell_type": "code",
   "execution_count": null,
   "metadata": {},
   "outputs": [],
   "source": []
  },
  {
   "cell_type": "code",
   "execution_count": 2,
   "metadata": {},
   "outputs": [],
   "source": [
    "from datetime import datetime\n",
    "datelist=[]\n",
    "for i in video_subtitle_data['trending_date_x']:\n",
    "    datetime_object = datetime.strptime(i, '%y.%d.%m')\n",
    "    datelist.append(datetime_object)\n",
    "video_subtitle_data['Date']=datelist\n",
    "# datetime_object = datetime.strptime(video_subtitle_data['trending_date_x'][0], '%y.%d.%m')"
   ]
  },
  {
   "cell_type": "code",
   "execution_count": 3,
   "metadata": {},
   "outputs": [],
   "source": [
    "# wordslist=[]\n",
    "# for index, row in video_subtitle_data.iterrows():\n",
    "#     wordlist=row['Subtitles'].split()\n",
    "#     wordslist.append(wordlist)\n",
    "# video_subtitle_data['wordlist']=wordslist"
   ]
  },
  {
   "cell_type": "code",
   "execution_count": 4,
   "metadata": {},
   "outputs": [],
   "source": [
    "company_names = pd.read_csv(\"constituents.csv.txt\", sep=',',encoding='latin-1')"
   ]
  },
  {
   "cell_type": "code",
   "execution_count": 5,
   "metadata": {},
   "outputs": [],
   "source": [
    "# # company_names\n",
    "\n",
    "# namelist=[]\n",
    "# ratiocount=[]\n",
    "# for j in company_names['Name']:\n",
    "#     k=j.split()\n",
    "#     for word in k:\n",
    "#         counter=0\n",
    "#         for i in video_subtitle_data['wordlist']:\n",
    "#             if word in i:\n",
    "#         #         print(True)\n",
    "#                 counter+=1\n",
    "#         ratio=counter/float(len(video_subtitle_data['wordlist']))\n",
    "#         print(word, ratio)\n",
    "#         namelist.append(word)\n",
    "#         ratiocount.append(ratio)\n",
    "    \n",
    "# eval_frame = pd.DataFrame()\n",
    "# eval_frame['Company_Term']=namelist\n",
    "# eval_frame['Dataset_Ratio']=ratiocount"
   ]
  },
  {
   "cell_type": "code",
   "execution_count": 6,
   "metadata": {},
   "outputs": [],
   "source": [
    "# eval_frame2=eval_frame.groupby(['Company_Term']).sum().sort_values('Dataset_Ratio', ascending=False)"
   ]
  },
  {
   "cell_type": "code",
   "execution_count": 7,
   "metadata": {},
   "outputs": [],
   "source": [
    "# list of all companies that have mentions/occurrences in more than 0.000315 of Youtube Videos\n",
    "company_list=[\n",
    "# \"Apple\",\n",
    "# \"Netflix\",\n",
    "# \"McDonald's\",\n",
    "# \"Facebook,\",\n",
    "# \"CBS\",\n",
    "# \"eBay\",\n",
    "# \"Starbucks\",\n",
    "# \"Microsoft\",\n",
    "\"Ford\",\n",
    "# \"Nvidia\",\n",
    "# \"HP\",\n",
    "# \"FedEx\",\n",
    "\"Lockheed\",\n",
    "# \"Nike\",\n",
    "# \"Verizon\"\n",
    "]"
   ]
  },
  {
   "cell_type": "code",
   "execution_count": 8,
   "metadata": {},
   "outputs": [],
   "source": [
    "# video_subtitle_data\n",
    "name_index_list=[]\n",
    "for name in company_list:\n",
    "    indexlist=[]\n",
    "    for index, row in video_subtitle_data.iterrows():\n",
    "        if name in row['wordlist']:\n",
    "            indexlist.append(row['video_id'])\n",
    "    name_index_list.append(indexlist)"
   ]
  },
  {
   "cell_type": "code",
   "execution_count": 9,
   "metadata": {},
   "outputs": [],
   "source": [
    "# name1\n",
    "# remove_list\n",
    "# name_index_list\n",
    "# remove_list=name_index_list[0]\n",
    "# name1 = video_subtitle_data[video_subtitle_data['video_id'].isin(remove_list)]\n",
    "dflist=[]\n",
    "for remove_list in name_index_list:\n",
    "    df = video_subtitle_data[video_subtitle_data['video_id'].isin(remove_list)]\n",
    "    dflist.append(df)"
   ]
  },
  {
   "cell_type": "code",
   "execution_count": 10,
   "metadata": {
    "scrolled": true
   },
   "outputs": [
    {
     "data": {
      "text/plain": [
       "<Figure size 640x480 with 1 Axes>"
      ]
     },
     "metadata": {},
     "output_type": "display_data"
    },
    {
     "data": {
      "text/plain": [
       "<Figure size 640x480 with 1 Axes>"
      ]
     },
     "metadata": {},
     "output_type": "display_data"
    }
   ],
   "source": [
    "import matplotlib.pyplot as plt\n",
    "for number in range(len(company_list)):\n",
    "    name = company_list[number]\n",
    "    dataset = dflist[number]\n",
    "    sentiment_data = dataset['sentiment']\n",
    "    dates = dataset['Date']\n",
    "    plt.plot(dates,sentiment_data)\n",
    "    plt.title(name)\n",
    "    plt.xlabel(\"Date\")\n",
    "    plt.ylabel(\"Sentiment\")\n",
    "    plt.show()"
   ]
  },
  {
   "cell_type": "code",
   "execution_count": 11,
   "metadata": {},
   "outputs": [],
   "source": [
    "# Amendments:\n",
    "## Consider downweighting certain sentiment by views of the video (avoid extreme content for niche audiences)\n",
    "## Consider counting change in sentiment from beginning of video to end of video"
   ]
  },
  {
   "cell_type": "code",
   "execution_count": 12,
   "metadata": {},
   "outputs": [],
   "source": [
    "# df_list =[]\n",
    "# for i in range(15):\n",
    "#     df_list.append(pd.read_csv(\"df_export\"+str(i)+\".csv\"))\n",
    "df_list =[]\n",
    "for i in range(15):\n",
    "    df_list.append(pd.read_json(\"df_export\"+str(i)+\".json\"))"
   ]
  },
  {
   "cell_type": "code",
   "execution_count": 13,
   "metadata": {},
   "outputs": [
    {
     "data": {
      "image/png": "[encoded data removed]",
      "text/plain": [
       "<Figure size 432x288 with 1 Axes>"
      ]
     },
     "metadata": {},
     "output_type": "display_data"
    },
    {
     "data": {
      "image/png": "[encoded data removed]",
      "text/plain": [
       "<Figure size 432x288 with 1 Axes>"
      ]
     },
     "metadata": {},
     "output_type": "display_data"
    }
   ],
   "source": [
    "from mpl_toolkits.axes_grid1 import host_subplot\n",
    "import mpl_toolkits.axisartist as AA\n",
    "import matplotlib.pyplot as plt\n",
    "\n",
    "import matplotlib.pyplot as plt\n",
    "for number in range(len(company_list)):\n",
    "    name = company_list[number]\n",
    "    dataset = df_list[number]\n",
    "    sentiment_data = dataset['sentiment']\n",
    "    price_data = dataset['Close']\n",
    "    dates = dataset['Date']\n",
    "    \n",
    "    \n",
    "#     plt.plot(dates,sentiment_data)\n",
    "#     plt.title(name)\n",
    "#     plt.xlabel(\"Date\")\n",
    "#     plt.ylabel(\"Sentiment\")\n",
    "#     plt.show()\n",
    "    \n",
    "    host = host_subplot(111, axes_class=AA.Axes)\n",
    "    plt.subplots_adjust(right=0.75)\n",
    "\n",
    "    par1 = host.twinx()\n",
    "#     par2 = host.twinx()\n",
    "\n",
    "    offset = 60\n",
    "    # new_fixed_axis = par2.get_grid_helper().new_fixed_axis\n",
    "    # par2.axis[\"right\"] = new_fixed_axis(loc=\"right\", axes=par2,\n",
    "    #                                         offset=(offset, 0))\n",
    "\n",
    "    # par2.axis[\"right\"].toggle(all=True)\n",
    "\n",
    "    # host.set_xlim(0, 2)\n",
    "    # host.set_ylim(0, 2)\n",
    "\n",
    "    host.set_xlabel(\"Date\")\n",
    "    host.set_title(name)\n",
    "    host.set_ylabel(\"Sentiment\")\n",
    "    par1.set_ylabel(\"Price\")\n",
    "    # par2.set_ylabel(\"Velocity\")\n",
    "\n",
    "    p1, = host.plot(dates, sentiment_data, label=\"Sentiment\")\n",
    "    p2, = par1.plot(dates, price_data, label=\"Price\")\n",
    "    # p3, = par2.plot([0, 1, 2], [50, 30, 15], label=\"Velocity\")\n",
    "\n",
    "    # par1.set_ylim(0, 4)\n",
    "    # par2.set_ylim(1, 65)\n",
    "\n",
    "    host.legend()\n",
    "\n",
    "    host.axis[\"left\"].label.set_color(p1.get_color())\n",
    "    par1.axis[\"right\"].label.set_color(p2.get_color())\n",
    "    # par2.axis[\"right\"].label.set_color(p3.get_color())\n",
    "\n",
    "    plt.draw()\n",
    "    plt.show()\n",
    "\n",
    "    #plt.savefig(\"Test\")"
   ]
  },
  {
   "cell_type": "code",
   "execution_count": 14,
   "metadata": {},
   "outputs": [],
   "source": [
    "# No warnings\n",
    "import warnings\n",
    "warnings.filterwarnings('ignore') # Filter out warnings\n",
    "\n",
    "# data analysis and wrangling\n",
    "import pandas as pd\n",
    "import numpy as np\n",
    "import random as rnd\n",
    "\n",
    "pd.set_option('display.max_columns', 100) # Print 100 Pandas columns\n",
    "\n",
    "# visualization\n",
    "import seaborn as sns\n",
    "import matplotlib.pyplot as plt\n",
    "%matplotlib inline\n",
    "\n",
    "# machine learning\n",
    "from sklearn.linear_model import LogisticRegression\n",
    "from sklearn.svm import SVC, LinearSVC\n",
    "from sklearn.ensemble import RandomForestClassifier\n",
    "from sklearn.neighbors import KNeighborsClassifier\n",
    "from sklearn.naive_bayes import GaussianNB # Gaussian Naive Bays\n",
    "from sklearn.linear_model import Perceptron\n",
    "from sklearn.linear_model import SGDClassifier #stochastic gradient descent\n",
    "from sklearn.tree import DecisionTreeClassifier\n",
    "\n",
    "import xgboost as xgb\n",
    "\n",
    "# Plot styling\n",
    "sns.set(style='white', context='notebook', palette='deep')\n",
    "plt.rcParams[ 'figure.figsize' ] = 10 , 6"
   ]
  },
  {
   "cell_type": "code",
   "execution_count": 15,
   "metadata": {},
   "outputs": [],
   "source": [
    "import numpy as np\n",
    "\n",
    "model_list=[]\n",
    "for number in range(len(company_list)):\n",
    "    name = company_list[number]\n",
    "    dataset = df_list[number]\n",
    "#     dataset = df_list[number][0:int(len(df_list[number])/2)]\n",
    "#     print(dataset)\n",
    "#     sentiment_data = [[dataset['sentiment']], [dataset['views']]] #, dataset['likes'], dataset['dislikes'], dataset['comment_count']]\n",
    "    sentiment_data = dataset.ix[:,['sentiment', 'views', 'likes', 'dislikes', 'comment_count']]\n",
    "#     sentiment_data = dataset['sentiment']\n",
    "\n",
    "#     nsamples, nx, ny = sentiment_data.shape\n",
    "    sentiment_data = sentiment_data #.reshape((nsamples,nx*ny))\n",
    "    \n",
    "    price_data = dataset['Close']\n",
    "    dates = dataset['Date']\n",
    "    \n",
    "    import numpy as np\n",
    "    from sklearn import linear_model\n",
    "    from sklearn import svm\n",
    "\n",
    "    classifiers = [\n",
    "        svm.SVR(),\n",
    "        linear_model.SGDRegressor(),\n",
    "        linear_model.BayesianRidge(),\n",
    "        linear_model.LassoLars(),\n",
    "        linear_model.PassiveAggressiveRegressor(),\n",
    "        linear_model.TheilSenRegressor(),\n",
    "        linear_model.LinearRegression()\n",
    "    ]\n",
    "\n",
    "    trainingData    = np.array(sentiment_data)#.reshape(-1, 1)\n",
    "    trainingScores  = np.array(price_data)#.reshape(-1, 1)\n",
    "    predictionData  = np.array(sentiment_data)#.reshape(-1, 1)\n",
    "\n",
    "    \n",
    "    from sklearn.metrics import accuracy_score\n",
    "    clf_list=[]\n",
    "    score_list=[]\n",
    "    for item in classifiers:\n",
    "#         print(item)\n",
    "        clf = item\n",
    "        clf.fit(trainingData, trainingScores)\n",
    "#         print(clf.predict(predictionData),'\\n')\n",
    "#         print(clf.score(predictionData,trainingScores))\n",
    "#         print(\"+++++++++++++++++++++++++++++++++++++++++++\")\n",
    "        clf_list.append(clf)\n",
    "        score_list.append(clf.score(predictionData,trainingScores))\n",
    "    best = score_list.index(max(score_list))\n",
    "    best_model = clf_list[best]\n",
    "    model_list.append(best_model)\n",
    "    \n",
    "    import pickle\n",
    "    filename = 'model'+str(number)+'.sav'\n",
    "    pickle.dump(best_model, open(filename, 'wb'))\n",
    "\n",
    "    \n",
    "#         y_pred=clf.predict(predictionData)\n",
    "#         y_true=trainingScores\n",
    "#         print(accuracy_score(y_true, y_pred))\n",
    "    "
   ]
  },
  {
   "cell_type": "code",
   "execution_count": 16,
   "metadata": {},
   "outputs": [],
   "source": [
    "# len(model_list)\n",
    "stock_model_df = pd.DataFrame()\n",
    "stock_model_df['company']=company_list\n",
    "stock_model_df['model']=model_list"
   ]
  },
  {
   "cell_type": "code",
   "execution_count": 17,
   "metadata": {},
   "outputs": [
    {
     "data": {
      "text/html": [
       "<div>\n",
       "<style scoped>\n",
       "    .dataframe tbody tr th:only-of-type {\n",
       "        vertical-align: middle;\n",
       "    }\n",
       "\n",
       "    .dataframe tbody tr th {\n",
       "        vertical-align: top;\n",
       "    }\n",
       "\n",
       "    .dataframe thead th {\n",
       "        text-align: right;\n",
       "    }\n",
       "</style>\n",
       "<table border=\"1\" class=\"dataframe\">\n",
       "  <thead>\n",
       "    <tr style=\"text-align: right;\">\n",
       "      <th></th>\n",
       "      <th>company</th>\n",
       "      <th>model</th>\n",
       "    </tr>\n",
       "  </thead>\n",
       "  <tbody>\n",
       "    <tr>\n",
       "      <th>0</th>\n",
       "      <td>Ford</td>\n",
       "      <td>SVR(C=1.0, cache_size=200, coef0=0.0, degree=3...</td>\n",
       "    </tr>\n",
       "    <tr>\n",
       "      <th>1</th>\n",
       "      <td>Lockheed</td>\n",
       "      <td>LinearRegression(copy_X=True, fit_intercept=Tr...</td>\n",
       "    </tr>\n",
       "  </tbody>\n",
       "</table>\n",
       "</div>"
      ],
      "text/plain": [
       "    company                                              model\n",
       "0      Ford  SVR(C=1.0, cache_size=200, coef0=0.0, degree=3...\n",
       "1  Lockheed  LinearRegression(copy_X=True, fit_intercept=Tr..."
      ]
     },
     "execution_count": 17,
     "metadata": {},
     "output_type": "execute_result"
    }
   ],
   "source": [
    "stock_model_df"
   ]
  },
  {
   "cell_type": "code",
   "execution_count": 18,
   "metadata": {},
   "outputs": [
    {
     "name": "stdout",
     "output_type": "stream",
     "text": [
      "Stock:  Ford\n",
      "Bought at 169.48\n",
      "Bought at 169.01\n",
      "Sold at 173.03\n",
      "Profit 355.0\n",
      "Profit 402.0\n",
      "Sold at 175.0\n",
      "Sold at 177.09\n",
      "Sold at 174.22\n",
      "Bought at 171.51\n",
      "Profit 349.0\n",
      "Profit 558.0\n",
      "Profit 271.0\n",
      "Bought at 170.15\n",
      "Sold at 176.21\n",
      "Bought at 168.34\n",
      "Profit -181.0\n",
      "Profit 0.0\n",
      "Sold at 173.07\n",
      "Bought at 169.48\n",
      "Stock:  Lockheed\n",
      "Bought at 185.2\n",
      "Sold at 261.279\n",
      "Sold at 291.38\n",
      "Profit -3010.0999999999985\n",
      "Profit 0.0\n",
      "Capital left 103010.1\n",
      "Return rate 0.03010100000000006\n"
     ]
    }
   ],
   "source": [
    "profitList=[]\n",
    "\n",
    "for number in range(len(company_list)):\n",
    "    \n",
    "    filename = 'model'+str(number)+'.sav'\n",
    "    loaded_model = pickle.load(open(filename, 'rb'))\n",
    "    \n",
    "    name = company_list[number]\n",
    "    \n",
    "    print(\"Stock: \", name)\n",
    "    \n",
    "    \n",
    "    dataset = df_list[number]\n",
    "#     model = model_list[number]\n",
    "#     dataset = df_list[number][int(len(df_list[number])/2)+1:len(df_list[number])]\n",
    "    data = dataset.ix[:,['Close', 'sentiment', 'views', 'likes', 'dislikes', 'comment_count']]\n",
    "    \n",
    "    buycounter=0\n",
    "    sellcounter=0\n",
    "#     trigger = MAGICNUMBER\n",
    "    \n",
    "    bought=0\n",
    "    sold=0\n",
    "    \n",
    "    buyList=[]\n",
    "    sellList=[]\n",
    "    \n",
    "    \n",
    "    capital = 100000\n",
    "    transaction_quantity=100\n",
    "    \n",
    "    \n",
    "    for index, row in data.iterrows():\n",
    "        currentPrice = row['Close']\n",
    "        input_data = row.ix[['sentiment', 'views', 'likes', 'dislikes', 'comment_count']]\n",
    "        input_df = np.array(input_data).reshape(1, -1)\n",
    "#         print(input_data)\n",
    "#         print(row.ix[1:])\n",
    "#         predictedPrice = loaded_model.predict(np.array(row.ix[1:]).reshape(-1, 1))\n",
    "#         predictedPrice = loaded_model.predict(row.iloc[:,1:])\n",
    "#         input_df = np.array([row['sentiment'], row['views'], row['likes'], row['dislikes'], row['comment_count']])#.reshape(-1, 1)\n",
    "        predictedPrice = loaded_model.predict(input_df)\n",
    "        \n",
    "        if predictedPrice-currentPrice > 0:\n",
    "            buycounter+=1\n",
    "        if predictedPrice/currentPrice > 1.5:\n",
    "            buycounter=3\n",
    "            \n",
    "        if predictedPrice-currentPrice < 0:\n",
    "            sellcounter+=1\n",
    "        if predictedPrice/currentPrice < 0.75:\n",
    "            sellcounter=3\n",
    "        \n",
    "        if buycounter==3:\n",
    "            buyList.append(currentPrice)\n",
    "            print(\"Bought at\", currentPrice)\n",
    "            buycounter=0\n",
    "            bought+=1\n",
    "        \n",
    "        if sellcounter==3:\n",
    "            sellList.append(currentPrice)\n",
    "            print(\"Sold at\", currentPrice)\n",
    "            sellcounter=0\n",
    "            sold+=1\n",
    "            \n",
    "            \n",
    "        # profit calculation\n",
    "        if len(buyList)>0:\n",
    "            if len(sellList)>0:\n",
    "                if len(buyList) > len(sellList):\n",
    "                    for closePrice in buyList:\n",
    "                        profitList.append(currentPrice*transaction_quantity-closePrice*transaction_quantity)\n",
    "                        print(\"Profit\", currentPrice*transaction_quantity-closePrice*transaction_quantity)\n",
    "                        buyList=[]\n",
    "                        sellList=[]\n",
    "                        capital=capital-closePrice*transaction_quantity\n",
    "                        capital=capital+currentPrice*transaction_quantity\n",
    "#                         capital=capital+(currentPrice-closePrice)\n",
    "                if len(buyList) < len(sellList):\n",
    "                    for closePrice in sellList:\n",
    "                        profitList.append(closePrice*transaction_quantity-currentPrice*transaction_quantity)\n",
    "                        print(\"Profit\", closePrice*transaction_quantity-currentPrice*transaction_quantity)\n",
    "                        buyList=[]\n",
    "                        sellList=[]\n",
    "                        capital=capital-closePrice*transaction_quantity\n",
    "                        capital=capital+currentPrice*transaction_quantity\n",
    "#                         capital=capital+(closePrice-currentPrice)\n",
    "            \n",
    "        if index == len(data)-1:\n",
    "            if len(buyList)>0:\n",
    "                if len(sellList)==0:\n",
    "                    for closePrice in buyList:\n",
    "                        profitList.append(currentPrice*transaction_quantity-closePrice*transaction_quantity)\n",
    "                        print(\"Profit\", currentPrice*transaction_quantity-closePrice*transaction_quantity)\n",
    "                        capital=capital-closePrice*transaction_quantity\n",
    "                        capital=capital+currentPrice*transaction_quantity\n",
    "            if len(sellList)>0:\n",
    "                if len(buyList)==0:\n",
    "                    for closePrice in sellList:\n",
    "                        profitList.append(closePrice*transaction_quantity-currentPrice*transaction_quantity)\n",
    "                        print(\"Profit\", closePrice*transaction_quantity-currentPrice*transaction_quantity)\n",
    "                        capital=capital-closePrice*transaction_quantity\n",
    "                        capital=capital+currentPrice*transaction_quantity\n",
    "                        \n",
    "print(\"Capital left\", capital)\n",
    "print(\"Return rate\", float(capital-100000)/100000)\n",
    "#         print(predictedPrice-currentPrice)"
   ]
  },
  {
   "cell_type": "code",
   "execution_count": 19,
   "metadata": {},
   "outputs": [
    {
     "data": {
      "text/plain": [
       "[<matplotlib.lines.Line2D at 0x21e3916d6a0>]"
      ]
     },
     "execution_count": 19,
     "metadata": {},
     "output_type": "execute_result"
    },
    {
     "data": {
      "image/png": "[encoded data removed]",
      "text/plain": [
       "<Figure size 720x432 with 1 Axes>"
      ]
     },
     "metadata": {},
     "output_type": "display_data"
    }
   ],
   "source": [
    "plt.plot(range(len(profitList)), profitList)"
   ]
  }
 ],
 "metadata": {
  "kernelspec": {
   "display_name": "DataX Python3.6",
   "language": "python",
   "name": "python3"
  },
  "language_info": {
   "codemirror_mode": {
    "name": "ipython",
    "version": 3
   },
   "file_extension": ".py",
   "mimetype": "text/x-python",
   "name": "python",
   "nbconvert_exporter": "python",
   "pygments_lexer": "ipython3",
   "version": "3.6.6"
  }
 },
 "nbformat": 4,
 "nbformat_minor": 2
}
