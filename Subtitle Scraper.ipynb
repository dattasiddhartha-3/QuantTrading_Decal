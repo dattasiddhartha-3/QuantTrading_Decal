{
 "cells": [
  {
   "cell_type": "code",
   "execution_count": 30,
   "metadata": {},
   "outputs": [],
   "source": [
    "import csv\n",
    "import pandas as pd\n",
    "import matplotlib.pyplot as plt\n",
    "import seaborn as sns\n",
    "import warnings\n",
    "import os\n",
    "from os import listdir\n",
    "from os.path import isfile, join\n",
    "warnings.filterwarnings('ignore')"
   ]
  },
  {
   "cell_type": "code",
   "execution_count": 34,
   "metadata": {},
   "outputs": [
    {
     "name": "stdout",
     "output_type": "stream",
     "text": [
      "Requirement already satisfied: youtube_dl in /Users/calvin/anaconda3/lib/python3.6/site-packages (2018.11.7)\r\n"
     ]
    }
   ],
   "source": [
    "!pip install youtube_dl"
   ]
  },
  {
   "cell_type": "code",
   "execution_count": 24,
   "metadata": {},
   "outputs": [],
   "source": [
    "videos = pd.read_csv(\"USvideos.csv\")"
   ]
  },
  {
   "cell_type": "code",
   "execution_count": 118,
   "metadata": {},
   "outputs": [],
   "source": [
    "def get_subtitles(trending):\n",
    "    \"\"\"\n",
    "    Get the subtitles for a video in the trending dataframe, changing the file name to contain the video\n",
    "    id and the trending date, and changing the extension of the file to a .csv file.\n",
    "    \"\"\"\n",
    "    important = trending[['video_id', 'trending_date']]\n",
    "    iter_rows = important.iterrows()\n",
    "    for row in iter_rows:\n",
    "        video_id = row[1]['video_id']\n",
    "#         print(video_id)\n",
    "        trending_date = row[1]['trending_date']\n",
    "        command = \"youtube-dl --write-sub --sub-format vtt --skip-download https://www.youtube.com/watch?v=\" + video_id\n",
    "        os.system(command)\n",
    "        current_files = [f for f in listdir(\".\") if isfile(join(\".\", f))]\n",
    "        for file in current_files:\n",
    "            if file[-4:] == '.vtt':\n",
    "                os.rename(file, video_id + \" \" + trending_date + \".csv\")"
   ]
  },
  {
   "cell_type": "code",
   "execution_count": 119,
   "metadata": {},
   "outputs": [
    {
     "name": "stdout",
     "output_type": "stream",
     "text": [
      "puqaWrEC7tY\n",
      "d380meD0W0M\n"
     ]
    }
   ],
   "source": [
    "get_subtitles(to_test)"
   ]
  },
  {
   "cell_type": "code",
   "execution_count": 121,
   "metadata": {},
   "outputs": [],
   "source": [
    "# Potentially useful functions\n",
    "\n",
    "def change_files():\n",
    "    \"\"\"\n",
    "    Changes the extension of videos in the current directory from .vtt to .csv.\n",
    "    \"\"\"\n",
    "    current_files = [f for f in listdir(\".\") if isfile(join(\".\", f))]\n",
    "    for file in current_files:\n",
    "        if file[-4:] == '.vtt':\n",
    "            os.rename(file, file[:-4] + \".csv\")\n",
    "            \n",
    "def find_file(ID, date):\n",
    "    \"\"\"\n",
    "    Finds the downloaded .vtt file in the current directory and renames it to its ID \n",
    "    and date trending, and also converts it into a .csv file.\n",
    "    \"\"\"\n",
    "    current_files = [f for f in listdir(\".\") if isfile(join(\".\", f))]\n",
    "    return current_files\n",
    "    for file in current_files:\n",
    "        if file[-4:] == '.vtt':\n",
    "            os.rename(file, ID + \" \" + date + \".csv\")"
   ]
  },
  {
   "cell_type": "code",
   "execution_count": null,
   "metadata": {},
   "outputs": [],
   "source": []
  }
 ],
 "metadata": {
  "kernelspec": {
   "display_name": "DataX Python3.6",
   "language": "python",
   "name": "python3"
  },
  "language_info": {
   "codemirror_mode": {
    "name": "ipython",
    "version": 3
   },
   "file_extension": ".py",
   "mimetype": "text/x-python",
   "name": "python",
   "nbconvert_exporter": "python",
   "pygments_lexer": "ipython3",
   "version": "3.6.6"
  }
 },
 "nbformat": 4,
 "nbformat_minor": 2
}
